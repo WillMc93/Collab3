{
 "cells": [
  {
   "cell_type": "markdown",
   "metadata": {},
   "source": [
    "# Define Graph Class"
   ]
  },
  {
   "cell_type": "code",
   "execution_count": 1,
   "metadata": {},
   "outputs": [],
   "source": [
    "class graph:\n",
    "    def __init__(self, directed=False):\n",
    "        self.graph = dict()\n",
    "        self.directed = directed\n",
    "        \n",
    "    # handy dandy inner node class\n",
    "    class node:\n",
    "        def __init__(self, ID, colour=None):\n",
    "            self.id = ID\n",
    "            self.colour = None\n",
    "        \n",
    "    def add_edge(self, u, v):\n",
    "        # make room\n",
    "        node_u = None\n",
    "        node_v = None\n",
    "        \n",
    "        # if node exists set reference\n",
    "        for node in self.graph.keys():\n",
    "            if node.id == u:\n",
    "                node_u = node\n",
    "            elif node.id == v:\n",
    "                node_v = node\n",
    "        \n",
    "        # if it doesn't exist make it and\n",
    "        # add it to the graph\n",
    "        if node_u == None:\n",
    "            node_u = self.node(u)\n",
    "            self.graph[node_u] = list()\n",
    "        if node_v == None:\n",
    "            node_v = self.node(v)\n",
    "            self.graph[node_v] = list()\n",
    "                \n",
    "        # add the edge(s) to the graph\n",
    "        self.graph[node_u].append(node_v)\n",
    "        if not self.directed:\n",
    "            self.graph[node_v].append(node_u)\n",
    "        \n",
    "    # returns an iterable of this graph (generator function)\n",
    "    def iterable(self):\n",
    "        for node in self.graph.keys():\n",
    "            yield node\n",
    "            \n",
    "        return None\n",
    "        \n",
    "    # determines if the graph is bitpartite from start node BFS style\n",
    "    def colour_2_BFS(self, start):\n",
    "        search_q = list()\n",
    "        \n",
    "        # colour all nodes neutral\n",
    "        for node in self.graph.keys():\n",
    "            node.colour = None\n",
    "  \n",
    "        # get this party started\n",
    "        start.colour = 'orange'\n",
    "        search_q.append(start)\n",
    "  \n",
    "        while search_q: \n",
    "            # pop from the front of the search_q\n",
    "            node = search_q.pop(0)\n",
    "            \n",
    "            # set the colouring for adjacent nodes\n",
    "            anti = 'blue' if node.colour == 'orange' else 'orange'\n",
    "            \n",
    "            # check for neighbors and their colour\n",
    "            for adj_node in self.graph[node]:\n",
    "                if adj_node.colour == None:\n",
    "                    adj_node.colour = anti\n",
    "                    search_q.append(adj_node)\n",
    "                    assert(adj_node in self.graph.keys())\n",
    "                                        \n",
    "                # for the next two if the adjacent node is coloured it has been visited\n",
    "                # if the adj_node colour is not opposite not-bipartite\n",
    "                elif adj_node.colour != anti:\n",
    "                    print (f\"Node {adj_node.id} breaks the criteria for 2-colouring from \" + \\\n",
    "                           f\"starting node {start.id}\")\n",
    "                    return False\n",
    "                \n",
    "                # else if the colour is expected \n",
    "                elif adj_node.colour == anti:\n",
    "                    # YAY! Criteria holds so far\n",
    "                    continue\n",
    "                    \n",
    "                # if something went really, really wrong\n",
    "                else:\n",
    "                    print(\"Hmmm?\")\n",
    "                    return False\n",
    "            \n",
    "        print(f\"Graph was two colourable from Node: {start.id}\")\n",
    "        return True\n",
    "     \n",
    "    def test(self):\n",
    "        for node in self.iterable():\n",
    "            self.colour_2_BFS(node)\n",
    "            # self.colour_2_DFS(node)\n",
    "            "
   ]
  },
  {
   "cell_type": "markdown",
   "metadata": {},
   "source": [
    "# Test 1 (bipartite): Test with a graph of a square"
   ]
  },
  {
   "cell_type": "code",
   "execution_count": 2,
   "metadata": {},
   "outputs": [
    {
     "name": "stdout",
     "output_type": "stream",
     "text": [
      "Graph was two colourable from Node: 0\n",
      "Graph was two colourable from Node: 1\n",
      "Graph was two colourable from Node: 2\n",
      "Graph was two colourable from Node: 3\n"
     ]
    }
   ],
   "source": [
    "g = graph()\n",
    "g.add_edge(0, 1) \n",
    "g.add_edge(1, 2)\n",
    "g.add_edge(2, 3) \n",
    "g.add_edge(3, 0)\n",
    "\n",
    "g.test()"
   ]
  },
  {
   "cell_type": "markdown",
   "metadata": {},
   "source": [
    "# Test 2 (not bipartite): Test with a graph of a triangle"
   ]
  },
  {
   "cell_type": "code",
   "execution_count": 3,
   "metadata": {},
   "outputs": [
    {
     "name": "stdout",
     "output_type": "stream",
     "text": [
      "Node 2 breaks the criteria for 2-colouring from starting node 0\n",
      "Node 2 breaks the criteria for 2-colouring from starting node 1\n",
      "Node 0 breaks the criteria for 2-colouring from starting node 2\n"
     ]
    }
   ],
   "source": [
    "g = graph() \n",
    "g.add_edge(0, 1) \n",
    "g.add_edge(1, 2)\n",
    "g.add_edge(2, 0) \n",
    "\n",
    "\n",
    "g.test()"
   ]
  },
  {
   "cell_type": "code",
   "execution_count": null,
   "metadata": {},
   "outputs": [],
   "source": []
  }
 ],
 "metadata": {
  "kernelspec": {
   "display_name": "Python 3",
   "language": "python",
   "name": "python3"
  },
  "language_info": {
   "codemirror_mode": {
    "name": "ipython",
    "version": 3
   },
   "file_extension": ".py",
   "mimetype": "text/x-python",
   "name": "python",
   "nbconvert_exporter": "python",
   "pygments_lexer": "ipython3",
   "version": "3.7.4"
  }
 },
 "nbformat": 4,
 "nbformat_minor": 2
}
